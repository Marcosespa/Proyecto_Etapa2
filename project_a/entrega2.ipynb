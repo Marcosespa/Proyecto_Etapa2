{
 "cells": [
  {
   "cell_type": "code",
   "execution_count": 420,
   "id": "bcf3d233",
   "metadata": {},
   "outputs": [],
   "source": [
    "import pandas as pd\n",
    "import numpy as np\n",
    "from pyomo.environ import * \n",
    "from pyomo.opt import SolverFactory\n",
    "\n"
   ]
  },
  {
   "cell_type": "code",
   "execution_count": 421,
   "id": "69c51f32",
   "metadata": {},
   "outputs": [],
   "source": [
    "clients_df = pd.read_csv(\"Proyecto_A_Caso2/clients.csv\")\n",
    "depots_df = pd.read_csv(\"Proyecto_A_Caso2/depots.csv\")\n",
    "vehicles_df = pd.read_csv(\"Proyecto_A_Caso2/vehicles.csv\")\n",
    "\n"
   ]
  },
  {
   "cell_type": "code",
   "execution_count": 422,
   "id": "67996b48",
   "metadata": {},
   "outputs": [
    {
     "name": "stdout",
     "output_type": "stream",
     "text": [
      "   ClientID  LocationID  Product  Longitude  Latitude\n",
      "0         1          13       12 -74.196992  4.632553\n",
      "1         2          14       15 -74.155037  4.601328\n",
      "2         3          15       15 -74.101787  4.732421\n",
      "3         4          16        6 -74.194862  4.638612\n",
      "4         5          17        5 -74.110272  4.727692\n",
      "   DepotID  LocationID  Longitude  Latitude  Capacity\n",
      "0        1           1 -74.081242  4.750212         8\n",
      "1        2           2 -74.109934  4.536383        10\n",
      "2        3           3 -74.038548  4.792926         0\n",
      "3        4           4 -74.067069  4.721678         4\n",
      "4        5           5 -74.138263  4.607707        28\n",
      "  VehicleType    Capacity        Range\n",
      "0     Gas Car  131.921140   145.852071\n",
      "1          EV  108.435620  1304.605971\n",
      "2          EV   91.504255   953.172609\n",
      "3       drone   32.896064    17.302304\n",
      "4       drone   22.652628    16.627680\n"
     ]
    }
   ],
   "source": [
    "print(clients_df.head())\n",
    "print(depots_df.head())\n",
    "print(vehicles_df.head())\n"
   ]
  },
  {
   "cell_type": "code",
   "execution_count": 423,
   "id": "91d6ed94",
   "metadata": {},
   "outputs": [],
   "source": [
    "C=list(depots_df[\"DepotID\"])\n",
    "CAP=dict(zip(depots_df[\"DepotID\"],depots_df[\"Capacity\"]))\n"
   ]
  },
  {
   "cell_type": "code",
   "execution_count": 424,
   "id": "ed3801ab",
   "metadata": {},
   "outputs": [
    {
     "name": "stdout",
     "output_type": "stream",
     "text": [
      "Conjunto C: [1, 2, 3, 4, 5, 6, 7, 8, 9, 10, 11, 12]\n",
      "Capacidades CAP_i: {1: 8, 2: 10, 3: 0, 4: 4, 5: 28, 6: 3, 7: 0, 8: 10, 9: 43, 10: 1, 11: 16, 12: 18}\n"
     ]
    }
   ],
   "source": [
    "print(\"Conjunto C:\", C)\n",
    "print(\"Capacidades CAP_i:\", CAP)\n"
   ]
  },
  {
   "cell_type": "code",
   "execution_count": 425,
   "id": "c05d9b82",
   "metadata": {},
   "outputs": [],
   "source": [
    "K=list(clients_df[\"ClientID\"])\n",
    "DEM=dict(zip(clients_df[\"ClientID\"],clients_df[\"Product\"]))  # Esta es la demanda que solicita ese cliente"
   ]
  },
  {
   "cell_type": "code",
   "execution_count": 426,
   "id": "30032289",
   "metadata": {},
   "outputs": [
    {
     "name": "stdout",
     "output_type": "stream",
     "text": [
      "Conjunto K: clientes [1, 2, 3, 4, 5, 6, 7, 8, 9]\n",
      "Capacidades Demanda: {1: 12, 2: 15, 3: 15, 4: 6, 5: 5, 6: 11, 7: 12, 8: 10, 9: 15}\n"
     ]
    }
   ],
   "source": [
    "print(\"Conjunto K: clientes\", K)\n",
    "print(\"Capacidades Demanda:\", DEM)"
   ]
  },
  {
   "cell_type": "markdown",
   "id": "44a68f27",
   "metadata": {},
   "source": [
    "Conjunto para la distancia"
   ]
  },
  {
   "cell_type": "code",
   "execution_count": 427,
   "id": "d1287356",
   "metadata": {},
   "outputs": [],
   "source": [
    "def dist_haversiana(lon1,lat1,lon2,lat2):\n",
    "  R=6371.0 #radio tierra\n",
    "  lon1,lat1,lon2,lat2=map(np.radians,[lon1,lat1,lon2,lat2])\n",
    "  dlon=lon2-lon1\n",
    "  dlat=lat2-lat1\n",
    "  a = np.sin(dlat / 2.0)**2 + np.cos(lat1) * np.cos(lat2) * np.sin(dlon / 2.0)**2\n",
    "  c = 2 * np.arcsin(np.sqrt(a))\n",
    "  return R * c\n",
    "\n"
   ]
  },
  {
   "cell_type": "code",
   "execution_count": 428,
   "id": "56865115",
   "metadata": {},
   "outputs": [],
   "source": [
    "DIST={}\n",
    "for i,depot in depots_df.iterrows():\n",
    "  for j,client in clients_df.iterrows():\n",
    "    di=depot[\"DepotID\"]\n",
    "    ci=client[\"ClientID\"]\n",
    "    distance=dist_haversiana(depot[\"Longitude\"],depot[\"Latitude\"],\n",
    "                             client[\"Longitude\"],client[\"Latitude\"]\n",
    "                             )\n",
    "    DIST[(di,ci)]=round(distance,2)\n"
   ]
  },
  {
   "cell_type": "code",
   "execution_count": 429,
   "id": "15e21ac2",
   "metadata": {},
   "outputs": [
    {
     "name": "stdout",
     "output_type": "stream",
     "text": [
      "La distancia entre el centro de distribucion 1.0 y el cliente 1.0 es de 18.32\n",
      "La distancia entre el centro de distribucion 1.0 y el cliente 2.0 es de 18.46\n",
      "La distancia entre el centro de distribucion 1.0 y el cliente 3.0 es de 3.02\n",
      "La distancia entre el centro de distribucion 1.0 y el cliente 4.0 es de 17.68\n",
      "La distancia entre el centro de distribucion 1.0 y el cliente 5.0 es de 4.08\n"
     ]
    }
   ],
   "source": [
    "for key, val in list(DIST.items())[:5]:\n",
    "  print(\"La distancia entre el centro de distribucion\", key[0], \"y el cliente\", key[1], \"es de\", val)"
   ]
  },
  {
   "cell_type": "markdown",
   "id": "7ecfd7f7",
   "metadata": {},
   "source": [
    "Procesamiento de vehiculos"
   ]
  },
  {
   "cell_type": "code",
   "execution_count": 430,
   "id": "c8a44d7d",
   "metadata": {},
   "outputs": [
    {
     "data": {
      "text/html": [
       "<div>\n",
       "<style scoped>\n",
       "    .dataframe tbody tr th:only-of-type {\n",
       "        vertical-align: middle;\n",
       "    }\n",
       "\n",
       "    .dataframe tbody tr th {\n",
       "        vertical-align: top;\n",
       "    }\n",
       "\n",
       "    .dataframe thead th {\n",
       "        text-align: right;\n",
       "    }\n",
       "</style>\n",
       "<table border=\"1\" class=\"dataframe\">\n",
       "  <thead>\n",
       "    <tr style=\"text-align: right;\">\n",
       "      <th></th>\n",
       "      <th>VehicleType</th>\n",
       "      <th>Capacity</th>\n",
       "      <th>Range</th>\n",
       "    </tr>\n",
       "  </thead>\n",
       "  <tbody>\n",
       "    <tr>\n",
       "      <th>0</th>\n",
       "      <td>Gas Car</td>\n",
       "      <td>131.921140</td>\n",
       "      <td>145.852071</td>\n",
       "    </tr>\n",
       "    <tr>\n",
       "      <th>1</th>\n",
       "      <td>EV</td>\n",
       "      <td>108.435620</td>\n",
       "      <td>1304.605971</td>\n",
       "    </tr>\n",
       "    <tr>\n",
       "      <th>2</th>\n",
       "      <td>EV</td>\n",
       "      <td>91.504255</td>\n",
       "      <td>953.172609</td>\n",
       "    </tr>\n",
       "    <tr>\n",
       "      <th>3</th>\n",
       "      <td>drone</td>\n",
       "      <td>32.896064</td>\n",
       "      <td>17.302304</td>\n",
       "    </tr>\n",
       "    <tr>\n",
       "      <th>4</th>\n",
       "      <td>drone</td>\n",
       "      <td>22.652628</td>\n",
       "      <td>16.627680</td>\n",
       "    </tr>\n",
       "    <tr>\n",
       "      <th>5</th>\n",
       "      <td>drone</td>\n",
       "      <td>22.682912</td>\n",
       "      <td>13.602811</td>\n",
       "    </tr>\n",
       "  </tbody>\n",
       "</table>\n",
       "</div>"
      ],
      "text/plain": [
       "  VehicleType    Capacity        Range\n",
       "0     Gas Car  131.921140   145.852071\n",
       "1          EV  108.435620  1304.605971\n",
       "2          EV   91.504255   953.172609\n",
       "3       drone   32.896064    17.302304\n",
       "4       drone   22.652628    16.627680\n",
       "5       drone   22.682912    13.602811"
      ]
     },
     "execution_count": 430,
     "metadata": {},
     "output_type": "execute_result"
    }
   ],
   "source": [
    "vehicles_df"
   ]
  },
  {
   "cell_type": "code",
   "execution_count": 431,
   "id": "9230a28a",
   "metadata": {},
   "outputs": [],
   "source": [
    "# V=list(vehicles_df[\"VehicleType\"])\n",
    "V=list(vehicles_df.index)\n",
    "Q = dict(zip(V, vehicles_df[\"Capacity\"]))\n",
    "\n",
    "\n",
    "R = dict(zip(V, vehicles_df[\"Range\"]))\n",
    "\n"
   ]
  },
  {
   "cell_type": "code",
   "execution_count": 432,
   "id": "346d517d",
   "metadata": {},
   "outputs": [
    {
     "name": "stdout",
     "output_type": "stream",
     "text": [
      "Vehículos: [0, 1, 2, 3, 4, 5]\n",
      "Capacidades: {0: 131.9211396722696, 1: 108.4356199315333, 2: 91.50425520531196, 3: 32.896064077536955, 4: 22.65262807032524, 5: 22.682911535937688}\n",
      "Rangos: {0: 145.85207096486445, 1: 1304.605971281605, 2: 953.172608610164, 3: 17.302304187458727, 4: 16.627680130757895, 5: 13.602810739289229}\n"
     ]
    }
   ],
   "source": [
    "print(\"Vehículos:\", V)\n",
    "print(\"Capacidades:\", Q)\n",
    "print(\"Rangos:\", R)\n"
   ]
  },
  {
   "cell_type": "code",
   "execution_count": 433,
   "id": "452d87f5",
   "metadata": {},
   "outputs": [
    {
     "name": "stdout",
     "output_type": "stream",
     "text": [
      "vehiculo 0: Tipo=Gas Car, Capacidad=131.9211396722696, Rango=145.85207096486445\n",
      "vehiculo 1: Tipo=EV, Capacidad=108.4356199315333, Rango=1304.605971281605\n",
      "vehiculo 2: Tipo=EV, Capacidad=91.50425520531196, Rango=953.172608610164\n",
      "vehiculo 3: Tipo=drone, Capacidad=32.896064077536955, Rango=17.302304187458727\n",
      "vehiculo 4: Tipo=drone, Capacidad=22.65262807032524, Rango=16.627680130757895\n",
      "vehiculo 5: Tipo=drone, Capacidad=22.682911535937688, Rango=13.602810739289229\n"
     ]
    }
   ],
   "source": [
    "for v in V:\n",
    "    print(f\"vehiculo {v}: Tipo={vehicles_df['VehicleType'][v]}, Capacidad={Q[v]}, Rango={R[v]}\")"
   ]
  },
  {
   "cell_type": "markdown",
   "id": "19c0b1ae",
   "metadata": {},
   "source": [
    "# Creacion del modelo"
   ]
  },
  {
   "cell_type": "code",
   "execution_count": 434,
   "id": "ea6046af",
   "metadata": {},
   "outputs": [],
   "source": [
    "model=ConcreteModel()\n",
    "\n",
    "#Definicion de conjuntos\n",
    "model.C= Set(initialize=C) # Centros de distribucion\n",
    "model.K = Set(initialize=K) # Clientes\n",
    "model.V = Set(initialize=V) # Vehículos\n",
    "model.N = model.C | model.K    # Todos los nodos CDs + Clientes el | hace la unicoon de los conjuntos\n"
   ]
  },
  {
   "cell_type": "code",
   "execution_count": 435,
   "id": "1cbe89a7",
   "metadata": {},
   "outputs": [],
   "source": [
    "# Parámetros\n",
    "model.CAP = Param(model.C, initialize=CAP)\n",
    "model.DEM = Param(model.K, initialize=DEM)\n",
    "model.Q = Param(model.V, initialize=Q)\n",
    "model.R = Param(model.V, initialize=R)\n",
    "\n",
    "# Distancias entre centros y clientes\n",
    "model.DIST = Param(model.C, model.K, initialize=DIST, within=NonNegativeReals)\n",
    "\n",
    "Pf = 123.12  # COP/km (combustible)\n",
    "Ft = 823     # COP/km (flete)\n",
    "Cm = 700     # COP/km (mantenimiento)\n"
   ]
  },
  {
   "cell_type": "markdown",
   "id": "40778909",
   "metadata": {},
   "source": [
    "### Variables de decision"
   ]
  },
  {
   "cell_type": "code",
   "execution_count": 436,
   "id": "23eb113b",
   "metadata": {},
   "outputs": [],
   "source": [
    "model.x =Var(model.C,model.K,model.V,domain=Binary) #X{i,j,l}\n",
    "model.y= Var(model.C,model.V,domain=Binary) #y{i,l}\n",
    "model.I=Var(model.C,domain=NonNegativeReals) # Inventario asignado a los centros de distribucion\n",
    "model.u= Var(model.K,model.V,domain=NonNegativeReals) # Carga entregada en cada punto de distribucion\n",
    "\n"
   ]
  },
  {
   "cell_type": "markdown",
   "id": "f4714ecf",
   "metadata": {},
   "source": [
    "### Funcion objetivo"
   ]
  },
  {
   "cell_type": "code",
   "execution_count": 437,
   "id": "b1a63302",
   "metadata": {},
   "outputs": [],
   "source": [
    "def objetivo(model):\n",
    "  return sum(\n",
    "    (Pf+Ft+Cm)* model.DIST[i,j]*model.x[i,j,l]\n",
    "    for i in model.C for j in model.K for l in model.V\n",
    "  )\n",
    "\n",
    "model.OBJ=Objective(rule=objetivo,sense=minimize)\n"
   ]
  },
  {
   "cell_type": "markdown",
   "id": "deaa5cbe",
   "metadata": {},
   "source": [
    "####  Restricciones"
   ]
  },
  {
   "cell_type": "markdown",
   "id": "a234a168",
   "metadata": {},
   "source": [
    "Capacidad de los Centros de Distribución"
   ]
  },
  {
   "cell_type": "code",
   "execution_count": 438,
   "id": "3629b8dc",
   "metadata": {},
   "outputs": [],
   "source": [
    "def restriccionCapacidad_CentroDistribucion(model,i):\n",
    "  return model.I[i]<=model.CAP[i]\n",
    "\n",
    "model.RestriccionCapacidad_CentroDistribucion=Constraint(model.C, rule=restriccionCapacidad_CentroDistribucion)"
   ]
  },
  {
   "cell_type": "markdown",
   "id": "74eb9684",
   "metadata": {},
   "source": [
    "Satisfacción de la demanda de cada cliente"
   ]
  },
  {
   "cell_type": "code",
   "execution_count": 439,
   "id": "edc88bd1",
   "metadata": {},
   "outputs": [],
   "source": [
    "def restriccion_demanda(model, j):\n",
    "    return sum(model.u[j, l] for l in model.V) == model.DEM[j]\n",
    "\n",
    "model.RestriccionDemanda = Constraint(model.K, rule=restriccion_demanda)"
   ]
  },
  {
   "cell_type": "markdown",
   "id": "dd1c058d",
   "metadata": {},
   "source": [
    "Capacidad del vehículo"
   ]
  },
  {
   "cell_type": "code",
   "execution_count": 440,
   "id": "aeeb9491",
   "metadata": {},
   "outputs": [],
   "source": [
    "def restriccion_capacidad_vehiculo(model, l):\n",
    "    return sum(model.u[j, l] for j in model.K) <= sum(model.Q[l] * model.y[i, l] for i in model.C)\n",
    "\n",
    "model.RestriccionCapacidadVehiculo = Constraint(model.V, rule=restriccion_capacidad_vehiculo)\n"
   ]
  },
  {
   "cell_type": "markdown",
   "id": "67a065f4",
   "metadata": {},
   "source": [
    "Asignar cada vehículo a un único centro de distribución"
   ]
  },
  {
   "cell_type": "code",
   "execution_count": 441,
   "id": "037e391a",
   "metadata": {},
   "outputs": [],
   "source": [
    "def restriccion_asignacion_vehiculos(model, l):\n",
    "    return sum(model.y[i, l] for i in model.C) == 1\n",
    "\n",
    "model.RestriccionAsignacionVehiculo = Constraint(model.V, rule=restriccion_asignacion_vehiculos)\n"
   ]
  },
  {
   "cell_type": "markdown",
   "id": "61b7f37f",
   "metadata": {},
   "source": [
    "Rango util del vehiculo"
   ]
  },
  {
   "cell_type": "code",
   "execution_count": 442,
   "id": "0cda8944",
   "metadata": {},
   "outputs": [],
   "source": [
    "def restriccion_rango(model, l):\n",
    "    return sum(model.DIST[i, j] * model.x[i, j, l] for i in model.C for j in model.K) <= model.R[l]\n",
    "\n",
    "model.RestriccionRango = Constraint(model.V, rule=restriccion_rango)\n"
   ]
  },
  {
   "cell_type": "code",
   "execution_count": 443,
   "id": "ee2766ac",
   "metadata": {},
   "outputs": [],
   "source": [
    "def link_xy_rule(m, i, j, l):\n",
    "    return m.x[i, j, l] <= m.y[i, l]\n",
    "model.link_xy = Constraint(model.C, model.K, model.V, rule=link_xy_rule)"
   ]
  },
  {
   "cell_type": "code",
   "execution_count": 444,
   "id": "7d39b80d",
   "metadata": {},
   "outputs": [],
   "source": [
    "def link_ux_rule(m, j, l):\n",
    "    return m.u[j, l] <= m.Q[l] * sum(m.x[i, j, l] for i in m.C)\n",
    "model.link_ux = Constraint(model.K, model.V, rule=link_ux_rule)\n"
   ]
  },
  {
   "cell_type": "code",
   "execution_count": 445,
   "id": "8d2ed3bc",
   "metadata": {},
   "outputs": [],
   "source": [
    "def visita_rule(m, j):\n",
    "    return sum(m.x[i, j, l] for i in m.C for l in m.V) == 1\n",
    "model.visita = Constraint(model.K, rule=visita_rule)"
   ]
  },
  {
   "cell_type": "code",
   "execution_count": 446,
   "id": "7d691ecc",
   "metadata": {},
   "outputs": [
    {
     "name": "stdout",
     "output_type": "stream",
     "text": [
      "WARNING: Implicitly replacing the Component attribute link_xy (type=<class\n",
      "'pyomo.core.base.constraint.IndexedConstraint'>) on block unknown with a new\n",
      "Component (type=<class 'pyomo.core.base.constraint.IndexedConstraint'>). This\n",
      "is usually indicative of a modelling error. To avoid this warning, use\n",
      "block.del_component() and block.add_component().\n"
     ]
    }
   ],
   "source": [
    "# 2.1) Cada vehículo parte de exactamente un CD\n",
    "def origen_rule(m, l):\n",
    "    return sum(m.y[i, l] for i in m.C) == 1\n",
    "model.un_origen = Constraint(model.V, rule=origen_rule)\n",
    "\n",
    "# 2.2) Solo puedo usar x[i,j,l] si y[i,l]=1\n",
    "def link_xy_rule(m, i, j, l):\n",
    "    return m.x[i, j, l] <= m.y[i, l]\n",
    "model.link_xy = Constraint(model.C, model.K, model.V, rule=link_xy_rule)"
   ]
  },
  {
   "cell_type": "markdown",
   "id": "e3ce3ee8",
   "metadata": {},
   "source": [
    "resolver el modelo"
   ]
  },
  {
   "cell_type": "code",
   "execution_count": 447,
   "id": "3b4a5e7c",
   "metadata": {},
   "outputs": [
    {
     "name": "stdout",
     "output_type": "stream",
     "text": [
      "GLPSOL--GLPK LP/MIP Solver 5.0\n",
      "Parameter(s) specified in the command line:\n",
      " --write C:\\Users\\jorgi\\AppData\\Local\\Temp\\tmp_kp0hq3d.glpk.raw --wglp C:\\Users\\jorgi\\AppData\\Local\\Temp\\tmp5t_liwkz.glpk.glp\n",
      " --cpxlp C:\\Users\\jorgi\\AppData\\Local\\Temp\\tmpo8v7qyq2.pyomo.lp\n",
      "Reading problem data from 'C:\\Users\\jorgi\\AppData\\Local\\Temp\\tmpo8v7qyq2.pyomo.lp'...\n",
      "C:\\Users\\jorgi\\AppData\\Local\\Temp\\tmpo8v7qyq2.pyomo.lp:7342: warning: lower bound of variable 'x2' redefined\n",
      "C:\\Users\\jorgi\\AppData\\Local\\Temp\\tmpo8v7qyq2.pyomo.lp:7342: warning: upper bound of variable 'x2' redefined\n",
      "756 rows, 786 columns, 3630 non-zeros\n",
      "720 integer variables, all of which are binary\n",
      "8062 lines were read\n",
      "Writing problem data to 'C:\\Users\\jorgi\\AppData\\Local\\Temp\\tmp5t_liwkz.glpk.glp'...\n",
      "6645 lines were written\n",
      "GLPK Integer Optimizer 5.0\n",
      "756 rows, 786 columns, 3630 non-zeros\n",
      "720 integer variables, all of which are binary\n",
      "Preprocessing...\n",
      "605 constraint coefficient(s) were reduced\n",
      "676 rows, 707 columns, 3175 non-zeros\n",
      "653 integer variables, all of which are binary\n",
      "Scaling...\n",
      " A: min|aij| =  8.000e-01  max|aij| =  1.010e+02  ratio =  1.263e+02\n",
      "GM: min|aij| =  4.218e-01  max|aij| =  2.371e+00  ratio =  5.620e+00\n",
      "EQ: min|aij| =  1.844e-01  max|aij| =  1.000e+00  ratio =  5.422e+00\n",
      "2N: min|aij| =  1.000e-01  max|aij| =  1.418e+00  ratio =  1.418e+01\n",
      "Constructing initial basis...\n",
      "Size of triangular part is 670\n",
      "Solving LP relaxation...\n",
      "GLPK Simplex Optimizer 5.0\n",
      "676 rows, 707 columns, 3175 non-zeros\n",
      "      0: obj =   1.744393364e+05 inf =   3.086e+01 (7)\n",
      "    142: obj =   1.571095133e+05 inf =   4.936e-16 (0)\n",
      "*   316: obj =   5.267584000e+04 inf =   2.035e-14 (0)\n",
      "OPTIMAL LP SOLUTION FOUND\n",
      "Integer optimization begins...\n",
      "Long-step dual simplex will be used\n",
      "+   316: mip =     not found yet >=              -inf        (1; 0)\n",
      "+   330: >>>>>   5.267584000e+04 >=   5.267584000e+04 < 0.1% (2; 0)\n",
      "+   330: mip =   5.267584000e+04 >=     tree is empty   0.0% (0; 3)\n",
      "INTEGER OPTIMAL SOLUTION FOUND\n",
      "Time used:   0.0 secs\n",
      "Memory used: 1.5 Mb (1555383 bytes)\n",
      "Writing MIP solution to 'C:\\Users\\jorgi\\AppData\\Local\\Temp\\tmp_kp0hq3d.glpk.raw'...\n",
      "1551 lines were written\n",
      "Estado: ok\n",
      "Óptimo: 52675.840000000004\n"
     ]
    }
   ],
   "source": [
    "solver = SolverFactory('glpk')\n",
    "# Resolver\n",
    "result = solver.solve(model, tee=True)\n",
    "\n",
    "# Mostrar el estado y el valor de la función objetivo\n",
    "print(\"Estado:\", result.solver.status)\n",
    "print(\"Óptimo:\", value(model.OBJ))\n"
   ]
  },
  {
   "cell_type": "code",
   "execution_count": 448,
   "id": "2f048a3e",
   "metadata": {},
   "outputs": [
    {
     "name": "stdout",
     "output_type": "stream",
     "text": [
      "Vehículo 4 va de CD 4 a Cliente 7\n",
      "Vehículo 4 va de CD 4 a Cliente 8\n",
      "Vehículo 5 va de CD 5 a Cliente 1\n",
      "Vehículo 2 va de CD 5 a Cliente 2\n",
      "Vehículo 2 va de CD 5 a Cliente 4\n",
      "Vehículo 1 va de CD 6 a Cliente 6\n",
      "Vehículo 0 va de CD 7 a Cliente 9\n",
      "Vehículo 3 va de CD 9 a Cliente 3\n",
      "Vehículo 3 va de CD 9 a Cliente 5\n"
     ]
    }
   ],
   "source": [
    "# Ver qué rutas fueron seleccionadas\n",
    "for i in model.C:\n",
    "    for j in model.K:\n",
    "        for l in model.V:\n",
    "            if model.x[i, j, l].value == 1:        \n",
    "                print(f\"Vehículo {l} va de CD {i} a Cliente {j}\")"
   ]
  },
  {
   "cell_type": "code",
   "execution_count": 449,
   "id": "d39fe879",
   "metadata": {},
   "outputs": [
    {
     "name": "stdout",
     "output_type": "stream",
     "text": [
      "Vehículo 4 parte desde CD 4\n",
      "Vehículo 2 parte desde CD 5\n",
      "Vehículo 5 parte desde CD 5\n",
      "Vehículo 1 parte desde CD 6\n",
      "Vehículo 0 parte desde CD 7\n",
      "Vehículo 3 parte desde CD 9\n"
     ]
    }
   ],
   "source": [
    "for i in model.C:\n",
    "    for l in model.V:\n",
    "        if model.y[i, l].value == 1:\n",
    "            print(f\"Vehículo {l} parte desde CD {i}\")\n"
   ]
  }
 ],
 "metadata": {
  "kernelspec": {
   "display_name": "pyomo_env",
   "language": "python",
   "name": "python3"
  },
  "language_info": {
   "codemirror_mode": {
    "name": "ipython",
    "version": 3
   },
   "file_extension": ".py",
   "mimetype": "text/x-python",
   "name": "python",
   "nbconvert_exporter": "python",
   "pygments_lexer": "ipython3",
   "version": "3.9.21"
  }
 },
 "nbformat": 4,
 "nbformat_minor": 5
}
