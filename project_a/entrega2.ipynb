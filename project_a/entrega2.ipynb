{
 "cells": [
  {
   "cell_type": "code",
   "execution_count": 160,
   "id": "bcf3d233",
   "metadata": {},
   "outputs": [],
   "source": [
    "import pandas as pd\n",
    "import numpy as np\n",
    "from pyomo.environ import * \n",
    "from pyomo.opt import SolverFactory\n",
    "import folium\n",
    "import csv"
   ]
  },
  {
   "cell_type": "code",
   "execution_count": 161,
   "id": "69c51f32",
   "metadata": {},
   "outputs": [],
   "source": [
    "clients_df = pd.read_csv(\"Proyecto_A_Caso3/clients.csv\")\n",
    "depots_df = pd.read_csv(\"Proyecto_A_Caso3/depots.csv\")\n",
    "vehicles_df = pd.read_csv(\"Proyecto_A_Caso3/vehicles.csv\")\n",
    "\n"
   ]
  },
  {
   "cell_type": "code",
   "execution_count": 162,
   "id": "67996b48",
   "metadata": {},
   "outputs": [
    {
     "name": "stdout",
     "output_type": "stream",
     "text": [
      "   ClientID  locationID  Demand  Longitude  Latitude\n",
      "0         1          12      12 -74.150806  4.679769\n",
      "1         2          13      12 -74.017996  4.733831\n",
      "2         3          14      12 -74.143655  4.620928\n",
      "3         4          15      12 -74.034583  4.733074\n",
      "4         5          16      12 -74.055887  4.820900\n",
      "   DepotID  LocationID  Longitude  Latitude  Capacity\n",
      "0        1           1 -74.081242  4.750212        11\n",
      "1        2           2 -74.109934  4.536383        90\n",
      "2        3           3 -74.038548  4.792926       130\n",
      "3        4           4 -74.067069  4.721678       145\n",
      "4        5           5 -74.138263  4.607707       260\n",
      "   VehicleType  Capacity  Range\n",
      "0            1       132    146\n",
      "1            2       136    196\n",
      "2            3       115    143\n",
      "3            4       158    174\n",
      "4            5       109    167\n"
     ]
    }
   ],
   "source": [
    "print(clients_df.head())\n",
    "print(depots_df.head())\n",
    "print(vehicles_df.head())\n"
   ]
  },
  {
   "cell_type": "code",
   "execution_count": 163,
   "id": "91d6ed94",
   "metadata": {},
   "outputs": [],
   "source": [
    "C=list(depots_df[\"DepotID\"])\n",
    "CAP=dict(zip(depots_df[\"DepotID\"],depots_df[\"Capacity\"]))\n"
   ]
  },
  {
   "cell_type": "code",
   "execution_count": 164,
   "id": "ed3801ab",
   "metadata": {},
   "outputs": [
    {
     "name": "stdout",
     "output_type": "stream",
     "text": [
      "Conjunto C: [1, 2, 3, 4, 5, 6, 7, 8, 9, 10, 11, 12]\n",
      "Capacidades CAP_i: {1: 11, 2: 90, 3: 130, 4: 145, 5: 260, 6: 180, 7: 720, 8: 55, 9: 70, 10: 75, 11: 90, 12: 270}\n"
     ]
    }
   ],
   "source": [
    "print(\"Conjunto C:\", C)\n",
    "print(\"Capacidades CAP_i:\", CAP)\n"
   ]
  },
  {
   "cell_type": "code",
   "execution_count": 165,
   "id": "c05d9b82",
   "metadata": {},
   "outputs": [],
   "source": [
    "K=list(clients_df[\"ClientID\"])\n",
    "DEM=dict(zip(clients_df[\"ClientID\"],clients_df[\"Demand\"]))  # Esta es la demanda que solicita ese cliente"
   ]
  },
  {
   "cell_type": "code",
   "execution_count": 166,
   "id": "30032289",
   "metadata": {},
   "outputs": [
    {
     "name": "stdout",
     "output_type": "stream",
     "text": [
      "Conjunto K: clientes [1, 2, 3, 4, 5, 6, 7, 8, 9, 10, 11, 12, 13, 14, 15, 16, 17, 18, 19, 20, 21, 22, 23, 24, 25, 26, 27, 28, 29, 30, 31, 32, 33, 34, 35, 36, 37, 38, 39, 40, 41, 42, 43, 44, 45, 46, 47, 48, 49, 50, 51, 52, 53, 54, 55, 56, 57, 58, 59, 60, 61, 62, 63, 64, 65, 66, 67, 68, 69, 70, 71, 72, 73, 74, 75, 76, 77, 78, 79, 80, 81, 82, 83, 84, 85, 86, 87, 88, 89, 90]\n",
      "Capacidades Demanda: {1: 12, 2: 12, 3: 12, 4: 12, 5: 12, 6: 12, 7: 12, 8: 12, 9: 12, 10: 12, 11: 12, 12: 12, 13: 8, 14: 12, 15: 12, 16: 12, 17: 12, 18: 12, 19: 12, 20: 12, 21: 12, 22: 12, 23: 12, 24: 12, 25: 12, 26: 12, 27: 12, 28: 12, 29: 12, 30: 12, 31: 11, 32: 12, 33: 12, 34: 12, 35: 12, 36: 12, 37: 12, 38: 12, 39: 12, 40: 12, 41: 12, 42: 12, 43: 12, 44: 12, 45: 12, 46: 12, 47: 12, 48: 12, 49: 12, 50: 12, 51: 12, 52: 12, 53: 12, 54: 12, 55: 12, 56: 12, 57: 9, 58: 12, 59: 12, 60: 12, 61: 12, 62: 12, 63: 12, 64: 12, 65: 12, 66: 12, 67: 12, 68: 12, 69: 12, 70: 12, 71: 12, 72: 12, 73: 12, 74: 12, 75: 12, 76: 12, 77: 12, 78: 12, 79: 12, 80: 5, 81: 12, 82: 12, 83: 12, 84: 12, 85: 12, 86: 12, 87: 10, 88: 12, 89: 12, 90: 12}\n"
     ]
    }
   ],
   "source": [
    "print(\"Conjunto K: clientes\", K)\n",
    "print(\"Capacidades Demanda:\", DEM)"
   ]
  },
  {
   "cell_type": "markdown",
   "id": "44a68f27",
   "metadata": {},
   "source": [
    "Conjunto para la distancia"
   ]
  },
  {
   "cell_type": "code",
   "execution_count": 167,
   "id": "d1287356",
   "metadata": {},
   "outputs": [],
   "source": [
    "def dist_haversiana(lon1,lat1,lon2,lat2):\n",
    "  R=6371.0 #radio tierra\n",
    "  lon1,lat1,lon2,lat2=map(np.radians,[lon1,lat1,lon2,lat2])\n",
    "  dlon=lon2-lon1\n",
    "  dlat=lat2-lat1\n",
    "  a = np.sin(dlat / 2.0)**2 + np.cos(lat1) * np.cos(lat2) * np.sin(dlon / 2.0)**2\n",
    "  c = 2 * np.arcsin(np.sqrt(a))\n",
    "  return R * c\n",
    "\n"
   ]
  },
  {
   "cell_type": "code",
   "execution_count": 168,
   "id": "56865115",
   "metadata": {},
   "outputs": [],
   "source": [
    "DIST={}\n",
    "for i,depot in depots_df.iterrows():\n",
    "  for j,client in clients_df.iterrows():\n",
    "    di=depot[\"DepotID\"]\n",
    "    ci=client[\"ClientID\"]\n",
    "    distance=dist_haversiana(depot[\"Longitude\"],depot[\"Latitude\"],\n",
    "                             client[\"Longitude\"],client[\"Latitude\"]\n",
    "                             )\n",
    "    DIST[(di,ci)]=round(distance,2)\n"
   ]
  },
  {
   "cell_type": "code",
   "execution_count": 169,
   "id": "15e21ac2",
   "metadata": {},
   "outputs": [
    {
     "name": "stdout",
     "output_type": "stream",
     "text": [
      "La distancia entre el centro de distribucion 1.0 y el cliente 1.0 es de 10.99\n",
      "La distancia entre el centro de distribucion 1.0 y el cliente 2.0 es de 7.24\n",
      "La distancia entre el centro de distribucion 1.0 y el cliente 3.0 es de 15.95\n",
      "La distancia entre el centro de distribucion 1.0 y el cliente 4.0 es de 5.51\n",
      "La distancia entre el centro de distribucion 1.0 y el cliente 5.0 es de 8.35\n"
     ]
    }
   ],
   "source": [
    "for key, val in list(DIST.items())[:5]:\n",
    "  print(\"La distancia entre el centro de distribucion\", key[0], \"y el cliente\", key[1], \"es de\", val)"
   ]
  },
  {
   "cell_type": "markdown",
   "id": "7ecfd7f7",
   "metadata": {},
   "source": [
    "Procesamiento de vehiculos"
   ]
  },
  {
   "cell_type": "code",
   "execution_count": 170,
   "id": "c8a44d7d",
   "metadata": {},
   "outputs": [
    {
     "data": {
      "text/html": [
       "<div>\n",
       "<style scoped>\n",
       "    .dataframe tbody tr th:only-of-type {\n",
       "        vertical-align: middle;\n",
       "    }\n",
       "\n",
       "    .dataframe tbody tr th {\n",
       "        vertical-align: top;\n",
       "    }\n",
       "\n",
       "    .dataframe thead th {\n",
       "        text-align: right;\n",
       "    }\n",
       "</style>\n",
       "<table border=\"1\" class=\"dataframe\">\n",
       "  <thead>\n",
       "    <tr style=\"text-align: right;\">\n",
       "      <th></th>\n",
       "      <th>VehicleType</th>\n",
       "      <th>Capacity</th>\n",
       "      <th>Range</th>\n",
       "    </tr>\n",
       "  </thead>\n",
       "  <tbody>\n",
       "    <tr>\n",
       "      <th>0</th>\n",
       "      <td>1</td>\n",
       "      <td>132</td>\n",
       "      <td>146</td>\n",
       "    </tr>\n",
       "    <tr>\n",
       "      <th>1</th>\n",
       "      <td>2</td>\n",
       "      <td>136</td>\n",
       "      <td>196</td>\n",
       "    </tr>\n",
       "    <tr>\n",
       "      <th>2</th>\n",
       "      <td>3</td>\n",
       "      <td>115</td>\n",
       "      <td>143</td>\n",
       "    </tr>\n",
       "    <tr>\n",
       "      <th>3</th>\n",
       "      <td>4</td>\n",
       "      <td>158</td>\n",
       "      <td>174</td>\n",
       "    </tr>\n",
       "    <tr>\n",
       "      <th>4</th>\n",
       "      <td>5</td>\n",
       "      <td>109</td>\n",
       "      <td>167</td>\n",
       "    </tr>\n",
       "    <tr>\n",
       "      <th>5</th>\n",
       "      <td>6</td>\n",
       "      <td>109</td>\n",
       "      <td>137</td>\n",
       "    </tr>\n",
       "    <tr>\n",
       "      <th>6</th>\n",
       "      <td>7</td>\n",
       "      <td>126</td>\n",
       "      <td>93</td>\n",
       "    </tr>\n",
       "    <tr>\n",
       "      <th>7</th>\n",
       "      <td>8</td>\n",
       "      <td>79</td>\n",
       "      <td>134</td>\n",
       "    </tr>\n",
       "    <tr>\n",
       "      <th>8</th>\n",
       "      <td>9</td>\n",
       "      <td>96</td>\n",
       "      <td>160</td>\n",
       "    </tr>\n",
       "    <tr>\n",
       "      <th>9</th>\n",
       "      <td>10</td>\n",
       "      <td>99</td>\n",
       "      <td>108</td>\n",
       "    </tr>\n",
       "    <tr>\n",
       "      <th>10</th>\n",
       "      <td>11</td>\n",
       "      <td>125</td>\n",
       "      <td>955</td>\n",
       "    </tr>\n",
       "    <tr>\n",
       "      <th>11</th>\n",
       "      <td>12</td>\n",
       "      <td>98</td>\n",
       "      <td>716</td>\n",
       "    </tr>\n",
       "    <tr>\n",
       "      <th>12</th>\n",
       "      <td>13</td>\n",
       "      <td>86</td>\n",
       "      <td>1023</td>\n",
       "    </tr>\n",
       "    <tr>\n",
       "      <th>13</th>\n",
       "      <td>14</td>\n",
       "      <td>74</td>\n",
       "      <td>1076</td>\n",
       "    </tr>\n",
       "    <tr>\n",
       "      <th>14</th>\n",
       "      <td>15</td>\n",
       "      <td>85</td>\n",
       "      <td>942</td>\n",
       "    </tr>\n",
       "    <tr>\n",
       "      <th>15</th>\n",
       "      <td>16</td>\n",
       "      <td>22</td>\n",
       "      <td>21</td>\n",
       "    </tr>\n",
       "    <tr>\n",
       "      <th>16</th>\n",
       "      <td>17</td>\n",
       "      <td>25</td>\n",
       "      <td>12</td>\n",
       "    </tr>\n",
       "    <tr>\n",
       "      <th>17</th>\n",
       "      <td>18</td>\n",
       "      <td>30</td>\n",
       "      <td>12</td>\n",
       "    </tr>\n",
       "    <tr>\n",
       "      <th>18</th>\n",
       "      <td>19</td>\n",
       "      <td>27</td>\n",
       "      <td>10</td>\n",
       "    </tr>\n",
       "    <tr>\n",
       "      <th>19</th>\n",
       "      <td>20</td>\n",
       "      <td>19</td>\n",
       "      <td>16</td>\n",
       "    </tr>\n",
       "    <tr>\n",
       "      <th>20</th>\n",
       "      <td>21</td>\n",
       "      <td>29</td>\n",
       "      <td>16</td>\n",
       "    </tr>\n",
       "    <tr>\n",
       "      <th>21</th>\n",
       "      <td>22</td>\n",
       "      <td>25</td>\n",
       "      <td>15</td>\n",
       "    </tr>\n",
       "    <tr>\n",
       "      <th>22</th>\n",
       "      <td>23</td>\n",
       "      <td>18</td>\n",
       "      <td>13</td>\n",
       "    </tr>\n",
       "    <tr>\n",
       "      <th>23</th>\n",
       "      <td>24</td>\n",
       "      <td>23</td>\n",
       "      <td>19</td>\n",
       "    </tr>\n",
       "    <tr>\n",
       "      <th>24</th>\n",
       "      <td>25</td>\n",
       "      <td>27</td>\n",
       "      <td>10</td>\n",
       "    </tr>\n",
       "    <tr>\n",
       "      <th>25</th>\n",
       "      <td>26</td>\n",
       "      <td>27</td>\n",
       "      <td>14</td>\n",
       "    </tr>\n",
       "    <tr>\n",
       "      <th>26</th>\n",
       "      <td>27</td>\n",
       "      <td>22</td>\n",
       "      <td>17</td>\n",
       "    </tr>\n",
       "    <tr>\n",
       "      <th>27</th>\n",
       "      <td>28</td>\n",
       "      <td>31</td>\n",
       "      <td>18</td>\n",
       "    </tr>\n",
       "    <tr>\n",
       "      <th>28</th>\n",
       "      <td>29</td>\n",
       "      <td>21</td>\n",
       "      <td>15</td>\n",
       "    </tr>\n",
       "    <tr>\n",
       "      <th>29</th>\n",
       "      <td>30</td>\n",
       "      <td>27</td>\n",
       "      <td>18</td>\n",
       "    </tr>\n",
       "  </tbody>\n",
       "</table>\n",
       "</div>"
      ],
      "text/plain": [
       "    VehicleType  Capacity  Range\n",
       "0             1       132    146\n",
       "1             2       136    196\n",
       "2             3       115    143\n",
       "3             4       158    174\n",
       "4             5       109    167\n",
       "5             6       109    137\n",
       "6             7       126     93\n",
       "7             8        79    134\n",
       "8             9        96    160\n",
       "9            10        99    108\n",
       "10           11       125    955\n",
       "11           12        98    716\n",
       "12           13        86   1023\n",
       "13           14        74   1076\n",
       "14           15        85    942\n",
       "15           16        22     21\n",
       "16           17        25     12\n",
       "17           18        30     12\n",
       "18           19        27     10\n",
       "19           20        19     16\n",
       "20           21        29     16\n",
       "21           22        25     15\n",
       "22           23        18     13\n",
       "23           24        23     19\n",
       "24           25        27     10\n",
       "25           26        27     14\n",
       "26           27        22     17\n",
       "27           28        31     18\n",
       "28           29        21     15\n",
       "29           30        27     18"
      ]
     },
     "execution_count": 170,
     "metadata": {},
     "output_type": "execute_result"
    }
   ],
   "source": [
    "vehicles_df"
   ]
  },
  {
   "cell_type": "code",
   "execution_count": 171,
   "id": "9230a28a",
   "metadata": {},
   "outputs": [],
   "source": [
    "V=list(vehicles_df.index)\n",
    "Q = dict(zip(V, vehicles_df[\"Capacity\"]))\n",
    "\n",
    "\n",
    "R = dict(zip(V, vehicles_df[\"Range\"]))\n",
    "\n"
   ]
  },
  {
   "cell_type": "code",
   "execution_count": 172,
   "id": "346d517d",
   "metadata": {},
   "outputs": [
    {
     "name": "stdout",
     "output_type": "stream",
     "text": [
      "Vehículos: [0, 1, 2, 3, 4, 5, 6, 7, 8, 9, 10, 11, 12, 13, 14, 15, 16, 17, 18, 19, 20, 21, 22, 23, 24, 25, 26, 27, 28, 29]\n",
      "Capacidades: {0: 132, 1: 136, 2: 115, 3: 158, 4: 109, 5: 109, 6: 126, 7: 79, 8: 96, 9: 99, 10: 125, 11: 98, 12: 86, 13: 74, 14: 85, 15: 22, 16: 25, 17: 30, 18: 27, 19: 19, 20: 29, 21: 25, 22: 18, 23: 23, 24: 27, 25: 27, 26: 22, 27: 31, 28: 21, 29: 27}\n",
      "Rangos: {0: 146, 1: 196, 2: 143, 3: 174, 4: 167, 5: 137, 6: 93, 7: 134, 8: 160, 9: 108, 10: 955, 11: 716, 12: 1023, 13: 1076, 14: 942, 15: 21, 16: 12, 17: 12, 18: 10, 19: 16, 20: 16, 21: 15, 22: 13, 23: 19, 24: 10, 25: 14, 26: 17, 27: 18, 28: 15, 29: 18}\n"
     ]
    }
   ],
   "source": [
    "print(\"Vehículos:\", V)\n",
    "print(\"Capacidades:\", Q)\n",
    "print(\"Rangos:\", R)\n"
   ]
  },
  {
   "cell_type": "code",
   "execution_count": 173,
   "id": "452d87f5",
   "metadata": {},
   "outputs": [
    {
     "name": "stdout",
     "output_type": "stream",
     "text": [
      "vehiculo 0: Tipo=1, Capacidad=132, Rango=146\n",
      "vehiculo 1: Tipo=2, Capacidad=136, Rango=196\n",
      "vehiculo 2: Tipo=3, Capacidad=115, Rango=143\n",
      "vehiculo 3: Tipo=4, Capacidad=158, Rango=174\n",
      "vehiculo 4: Tipo=5, Capacidad=109, Rango=167\n",
      "vehiculo 5: Tipo=6, Capacidad=109, Rango=137\n",
      "vehiculo 6: Tipo=7, Capacidad=126, Rango=93\n",
      "vehiculo 7: Tipo=8, Capacidad=79, Rango=134\n",
      "vehiculo 8: Tipo=9, Capacidad=96, Rango=160\n",
      "vehiculo 9: Tipo=10, Capacidad=99, Rango=108\n",
      "vehiculo 10: Tipo=11, Capacidad=125, Rango=955\n",
      "vehiculo 11: Tipo=12, Capacidad=98, Rango=716\n",
      "vehiculo 12: Tipo=13, Capacidad=86, Rango=1023\n",
      "vehiculo 13: Tipo=14, Capacidad=74, Rango=1076\n",
      "vehiculo 14: Tipo=15, Capacidad=85, Rango=942\n",
      "vehiculo 15: Tipo=16, Capacidad=22, Rango=21\n",
      "vehiculo 16: Tipo=17, Capacidad=25, Rango=12\n",
      "vehiculo 17: Tipo=18, Capacidad=30, Rango=12\n",
      "vehiculo 18: Tipo=19, Capacidad=27, Rango=10\n",
      "vehiculo 19: Tipo=20, Capacidad=19, Rango=16\n",
      "vehiculo 20: Tipo=21, Capacidad=29, Rango=16\n",
      "vehiculo 21: Tipo=22, Capacidad=25, Rango=15\n",
      "vehiculo 22: Tipo=23, Capacidad=18, Rango=13\n",
      "vehiculo 23: Tipo=24, Capacidad=23, Rango=19\n",
      "vehiculo 24: Tipo=25, Capacidad=27, Rango=10\n",
      "vehiculo 25: Tipo=26, Capacidad=27, Rango=14\n",
      "vehiculo 26: Tipo=27, Capacidad=22, Rango=17\n",
      "vehiculo 27: Tipo=28, Capacidad=31, Rango=18\n",
      "vehiculo 28: Tipo=29, Capacidad=21, Rango=15\n",
      "vehiculo 29: Tipo=30, Capacidad=27, Rango=18\n"
     ]
    }
   ],
   "source": [
    "for v in V:\n",
    "    print(f\"vehiculo {v}: Tipo={vehicles_df['VehicleType'][v]}, Capacidad={Q[v]}, Rango={R[v]}\")"
   ]
  },
  {
   "cell_type": "markdown",
   "id": "19c0b1ae",
   "metadata": {},
   "source": [
    "# Creacion del modelo"
   ]
  },
  {
   "cell_type": "code",
   "execution_count": 174,
   "id": "ea6046af",
   "metadata": {},
   "outputs": [],
   "source": [
    "model=ConcreteModel()\n",
    "\n",
    "#Definicion de conjuntos\n",
    "model.C= Set(initialize=C) # Centros de distribucion\n",
    "model.K = Set(initialize=K) # Clientes\n",
    "model.V = Set(initialize=V) # Vehículos\n",
    "model.N = model.C | model.K    # Todos los nodos CDs + Clientes el | hace la unicoon de los conjuntos\n"
   ]
  },
  {
   "cell_type": "code",
   "execution_count": 175,
   "id": "1cbe89a7",
   "metadata": {},
   "outputs": [],
   "source": [
    "# Parámetros\n",
    "model.CAP = Param(model.C, initialize=CAP)\n",
    "model.DEM = Param(model.K, initialize=DEM)\n",
    "model.Q = Param(model.V, initialize=Q)\n",
    "model.R = Param(model.V, initialize=R)\n",
    "\n",
    "# Distancias entre centros y clientes\n",
    "model.DIST = Param(model.C, model.K, initialize=DIST, within=NonNegativeReals)\n",
    "\n",
    "Pf = 123.12  # COP/km (combustible)\n",
    "Ft = 823     # COP/km (flete)\n",
    "Cm = 700     # COP/km (mantenimiento)\n"
   ]
  },
  {
   "cell_type": "markdown",
   "id": "40778909",
   "metadata": {},
   "source": [
    "### Variables de decision"
   ]
  },
  {
   "cell_type": "code",
   "execution_count": 176,
   "id": "23eb113b",
   "metadata": {},
   "outputs": [],
   "source": [
    "model.x =Var(model.C,model.K,model.V,domain=Binary) #X{i,j,l}\n",
    "model.y= Var(model.C,model.V,domain=Binary) #y{i,l}\n",
    "model.I=Var(model.C,domain=NonNegativeReals) # Inventario asignado a los centros de distribucion\n",
    "model.u= Var(model.K,model.V,domain=NonNegativeReals) # Carga entregada en cada punto de distribucion\n",
    "\n"
   ]
  },
  {
   "cell_type": "markdown",
   "id": "f4714ecf",
   "metadata": {},
   "source": [
    "### Funcion objetivo"
   ]
  },
  {
   "cell_type": "code",
   "execution_count": 177,
   "id": "b1a63302",
   "metadata": {},
   "outputs": [],
   "source": [
    "def objetivo(model):\n",
    "  return sum(\n",
    "    (Pf+Ft+Cm)* model.DIST[i,j]*model.x[i,j,l]\n",
    "    for i in model.C for j in model.K for l in model.V\n",
    "  )\n",
    "\n",
    "model.OBJ=Objective(rule=objetivo,sense=minimize)\n"
   ]
  },
  {
   "cell_type": "markdown",
   "id": "deaa5cbe",
   "metadata": {},
   "source": [
    "####  Restricciones"
   ]
  },
  {
   "cell_type": "markdown",
   "id": "a234a168",
   "metadata": {},
   "source": [
    "Capacidad de los Centros de Distribución"
   ]
  },
  {
   "cell_type": "code",
   "execution_count": 178,
   "id": "3629b8dc",
   "metadata": {},
   "outputs": [],
   "source": [
    "def restriccionCapacidad_CentroDistribucion(model,i):\n",
    "  return model.I[i]<=model.CAP[i]\n",
    "\n",
    "model.RestriccionCapacidad_CentroDistribucion=Constraint(model.C, rule=restriccionCapacidad_CentroDistribucion)"
   ]
  },
  {
   "cell_type": "markdown",
   "id": "74eb9684",
   "metadata": {},
   "source": [
    "Satisfacción de la demanda de cada cliente"
   ]
  },
  {
   "cell_type": "code",
   "execution_count": 179,
   "id": "edc88bd1",
   "metadata": {},
   "outputs": [],
   "source": [
    "def restriccion_demanda(model, j):\n",
    "    return sum(model.u[j, l] for l in model.V) == model.DEM[j]\n",
    "\n",
    "model.RestriccionDemanda = Constraint(model.K, rule=restriccion_demanda)"
   ]
  },
  {
   "cell_type": "markdown",
   "id": "dd1c058d",
   "metadata": {},
   "source": [
    "Capacidad del vehículo"
   ]
  },
  {
   "cell_type": "code",
   "execution_count": 180,
   "id": "aeeb9491",
   "metadata": {},
   "outputs": [],
   "source": [
    "def restriccion_capacidad_vehiculo(model, l):\n",
    "    return sum(model.u[j, l] for j in model.K) <= sum(model.Q[l] * model.y[i, l] for i in model.C)\n",
    "\n",
    "model.RestriccionCapacidadVehiculo = Constraint(model.V, rule=restriccion_capacidad_vehiculo)\n"
   ]
  },
  {
   "cell_type": "markdown",
   "id": "67a065f4",
   "metadata": {},
   "source": [
    "Asignar cada vehículo a un único centro de distribución"
   ]
  },
  {
   "cell_type": "code",
   "execution_count": 181,
   "id": "037e391a",
   "metadata": {},
   "outputs": [],
   "source": [
    "def restriccion_asignacion_vehiculos(model, l):\n",
    "    return sum(model.y[i, l] for i in model.C) == 1\n",
    "\n",
    "model.RestriccionAsignacionVehiculo = Constraint(model.V, rule=restriccion_asignacion_vehiculos)\n"
   ]
  },
  {
   "cell_type": "markdown",
   "id": "61b7f37f",
   "metadata": {},
   "source": [
    "Rango util del vehiculo"
   ]
  },
  {
   "cell_type": "code",
   "execution_count": 182,
   "id": "0cda8944",
   "metadata": {},
   "outputs": [],
   "source": [
    "def restriccion_rango(model, l):\n",
    "    return sum(model.DIST[i, j] * model.x[i, j, l] for i in model.C for j in model.K) <= model.R[l]\n",
    "\n",
    "model.RestriccionRango = Constraint(model.V, rule=restriccion_rango)\n"
   ]
  },
  {
   "cell_type": "code",
   "execution_count": 183,
   "id": "ee2766ac",
   "metadata": {},
   "outputs": [],
   "source": [
    "def link_xy_rule(m, i, j, l):\n",
    "    return m.x[i, j, l] <= m.y[i, l]\n",
    "model.link_xy = Constraint(model.C, model.K, model.V, rule=link_xy_rule)"
   ]
  },
  {
   "cell_type": "code",
   "execution_count": 184,
   "id": "7d39b80d",
   "metadata": {},
   "outputs": [],
   "source": [
    "def link_ux_rule(m, j, l):\n",
    "    return m.u[j, l] <= m.Q[l] * sum(m.x[i, j, l] for i in m.C)\n",
    "model.link_ux = Constraint(model.K, model.V, rule=link_ux_rule)\n"
   ]
  },
  {
   "cell_type": "code",
   "execution_count": 185,
   "id": "8d2ed3bc",
   "metadata": {},
   "outputs": [],
   "source": [
    "def visita_rule(m, j):\n",
    "    return sum(m.x[i, j, l] for i in m.C for l in m.V) == 1\n",
    "model.visita = Constraint(model.K, rule=visita_rule)"
   ]
  },
  {
   "cell_type": "code",
   "execution_count": 186,
   "id": "7d691ecc",
   "metadata": {},
   "outputs": [],
   "source": [
    "def origen_rule(m, l):\n",
    "    return sum(m.y[i, l] for i in m.C) == 1\n",
    "model.un_origen = Constraint(model.V, rule=origen_rule)"
   ]
  },
  {
   "cell_type": "markdown",
   "id": "e3ce3ee8",
   "metadata": {},
   "source": [
    "resolver el modelo"
   ]
  },
  {
   "cell_type": "code",
   "execution_count": 187,
   "id": "3b4a5e7c",
   "metadata": {},
   "outputs": [
    {
     "name": "stdout",
     "output_type": "stream",
     "text": [
      "GLPSOL--GLPK LP/MIP Solver 5.0\n",
      "Parameter(s) specified in the command line:\n",
      " --write C:\\Users\\jorgi\\AppData\\Local\\Temp\\tmpdstu98bh.glpk.raw --wglp C:\\Users\\jorgi\\AppData\\Local\\Temp\\tmpkrgisq0g.glpk.glp\n",
      " --cpxlp C:\\Users\\jorgi\\AppData\\Local\\Temp\\tmpgpk08ucg.pyomo.lp\n",
      "Reading problem data from 'C:\\Users\\jorgi\\AppData\\Local\\Temp\\tmpgpk08ucg.pyomo.lp'...\n",
      "C:\\Users\\jorgi\\AppData\\Local\\Temp\\tmpgpk08ucg.pyomo.lp:345310: warning: lower bound of variable 'x2' redefined\n",
      "C:\\Users\\jorgi\\AppData\\Local\\Temp\\tmpgpk08ucg.pyomo.lp:345310: warning: upper bound of variable 'x2' redefined\n",
      "35412 rows, 35472 columns, 171192 non-zeros\n",
      "32760 integer variables, all of which are binary\n",
      "378070 lines were read\n",
      "Writing problem data to 'C:\\Users\\jorgi\\AppData\\Local\\Temp\\tmpkrgisq0g.glpk.glp'...\n",
      "312603 lines were written\n",
      "GLPK Integer Optimizer 5.0\n",
      "35412 rows, 35472 columns, 171192 non-zeros\n",
      "32760 integer variables, all of which are binary\n",
      "Preprocessing...\n",
      "28037 constraint coefficient(s) were reduced\n",
      "31037 rows, 31097 columns, 149365 non-zeros\n",
      "28397 integer variables, all of which are binary\n",
      "Scaling...\n",
      " A: min|aij| =  3.300e-01  max|aij| =  1.580e+02  ratio =  4.788e+02\n",
      "GM: min|aij| =  3.369e-01  max|aij| =  2.968e+00  ratio =  8.809e+00\n",
      "EQ: min|aij| =  1.150e-01  max|aij| =  1.000e+00  ratio =  8.699e+00\n",
      "2N: min|aij| =  7.375e-02  max|aij| =  1.604e+00  ratio =  2.175e+01\n",
      "Constructing initial basis...\n",
      "Size of triangular part is 31007\n",
      "Solving LP relaxation...\n",
      "GLPK Simplex Optimizer 5.0\n",
      "31037 rows, 31097 columns, 149365 non-zeros\n",
      "      0: obj =   1.504109228e+06 inf =   2.633e+02 (14)\n",
      "Perturbing LP to avoid stalling [319]...\n",
      "   5631: obj =   1.209884856e+06 inf =   7.508e-07 (0) 16\n",
      "Removing LP perturbation [10716]...\n",
      "* 10716: obj =   4.755969904e+05 inf =   3.289e-14 (0) 18\n",
      "OPTIMAL LP SOLUTION FOUND\n",
      "Integer optimization begins...\n",
      "Long-step dual simplex will be used\n",
      "+ 10716: mip =     not found yet >=              -inf        (1; 0)\n",
      "+ 11454: mip =     not found yet >=   4.755969904e+05        (17; 0)\n",
      "+ 11931: mip =     not found yet >=   4.755969904e+05        (65; 0)\n",
      "+ 12139: >>>>>   4.758109860e+05 >=   4.755969904e+05 < 0.1% (80; 0)\n",
      "+ 12326: >>>>>   4.755969904e+05 >=   4.755969904e+05 < 0.1% (79; 21)\n",
      "+ 12326: mip =   4.755969904e+05 >=     tree is empty   0.0% (0; 179)\n",
      "INTEGER OPTIMAL SOLUTION FOUND\n",
      "Time used:   19.8 secs\n",
      "Memory used: 64.7 Mb (67846433 bytes)\n",
      "Writing MIP solution to 'C:\\Users\\jorgi\\AppData\\Local\\Temp\\tmpdstu98bh.glpk.raw'...\n",
      "70893 lines were written\n",
      "Estado: ok\n",
      "Óptimo: 475596.9904000002\n"
     ]
    }
   ],
   "source": [
    "solver = SolverFactory('glpk')\n",
    "# Resolver\n",
    "result = solver.solve(model, tee=True)\n",
    "\n",
    "# Mostrar el estado y el valor de la función objetivo\n",
    "print(\"Estado:\", result.solver.status)\n",
    "print(\"Óptimo:\", value(model.OBJ))\n"
   ]
  },
  {
   "cell_type": "code",
   "execution_count": 188,
   "id": "2f048a3e",
   "metadata": {},
   "outputs": [
    {
     "name": "stdout",
     "output_type": "stream",
     "text": [
      "Vehículo 0 está en este punto y sigue esta ruta: CD 4 -> CD 4 a Cliente 2 -> Cliente 2 a Cliente 7 -> Cliente 7 a Cliente 12 -> Cliente 12 a Cliente 20 -> Cliente 20 a Cliente 63 -> Cliente 63 a Cliente 66 -> Cliente 66 a Cliente 67 -> Cliente 67 a Cliente 72 -> Cliente 72 a Cliente 81\n",
      "Vehículo 1 está en este punto y sigue esta ruta: CD 5 -> CD 5 a Cliente 3 -> Cliente 3 a Cliente 16 -> Cliente 16 a Cliente 19 -> Cliente 19 a Cliente 33 -> Cliente 33 a Cliente 42 -> Cliente 42 a Cliente 46 -> Cliente 46 a Cliente 51 -> Cliente 51 a Cliente 60 -> Cliente 60 a Cliente 64 -> Cliente 64 a Cliente 65 -> Cliente 65 a Cliente 76\n",
      "Vehículo 2 está en este punto y sigue esta ruta: CD 6 -> CD 6 a Cliente 13 -> Cliente 13 a Cliente 32\n",
      "Vehículo 3 está en este punto y sigue esta ruta: CD 7 -> CD 7 a Cliente 73\n",
      "Vehículo 4 está en este punto y sigue esta ruta: CD 3 -> CD 3 a Cliente 31 -> Cliente 31 a Cliente 77\n",
      "Vehículo 5 está en este punto y sigue esta ruta: CD 6 -> CD 6 a Cliente 1 -> Cliente 1 a Cliente 17 -> Cliente 17 a Cliente 26 -> Cliente 26 a Cliente 28 -> Cliente 28 a Cliente 30 -> Cliente 30 a Cliente 55 -> Cliente 55 a Cliente 75 -> Cliente 75 a Cliente 87\n",
      "Vehículo 6 está en este punto y sigue esta ruta: CD 7 -> CD 7 a Cliente 15 -> Cliente 15 a Cliente 23 -> Cliente 23 a Cliente 24 -> Cliente 24 a Cliente 34 -> Cliente 34 a Cliente 35 -> Cliente 35 a Cliente 39 -> Cliente 39 a Cliente 43 -> Cliente 43 a Cliente 56 -> Cliente 56 a Cliente 59 -> Cliente 59 a Cliente 84\n",
      "Vehículo 7 está en este punto y sigue esta ruta: CD 4 -> CD 4 a Cliente 4 -> Cliente 4 a Cliente 41 -> Cliente 41 a Cliente 47 -> Cliente 47 a Cliente 82\n",
      "Vehículo 8 está en este punto y sigue esta ruta: CD 10 -> CD 10 a Cliente 27 -> Cliente 27 a Cliente 52 -> Cliente 52 a Cliente 53 -> Cliente 53 a Cliente 70 -> Cliente 70 a Cliente 80 -> Cliente 80 a Cliente 83 -> Cliente 83 a Cliente 86\n",
      "Vehículo 9 está en este punto y sigue esta ruta: CD 12 -> CD 12 a Cliente 8 -> Cliente 8 a Cliente 22 -> Cliente 22 a Cliente 36 -> Cliente 36 a Cliente 37 -> Cliente 37 a Cliente 54 -> Cliente 54 a Cliente 68 -> Cliente 68 a Cliente 79 -> Cliente 79 a Cliente 88\n",
      "Vehículo 10 está en este punto y sigue esta ruta: CD 12\n",
      "Vehículo 11 está en este punto y sigue esta ruta: CD 12\n",
      "Vehículo 12 está en este punto y sigue esta ruta: CD 11 -> CD 11 a Cliente 14 -> Cliente 14 a Cliente 50 -> Cliente 50 a Cliente 57 -> Cliente 57 a Cliente 90\n",
      "Vehículo 13 está en este punto y sigue esta ruta: CD 12\n",
      "Vehículo 14 está en este punto y sigue esta ruta: CD 9 -> CD 9 a Cliente 9 -> Cliente 9 a Cliente 21 -> Cliente 21 a Cliente 29 -> Cliente 29 a Cliente 49 -> Cliente 49 a Cliente 61 -> Cliente 61 a Cliente 71\n",
      "Vehículo 15 está en este punto y sigue esta ruta: CD 3\n",
      "Vehículo 16 está en este punto y sigue esta ruta: CD 10 -> CD 10 a Cliente 89\n",
      "Vehículo 17 está en este punto y sigue esta ruta: CD 6 -> CD 6 a Cliente 85\n",
      "Vehículo 18 está en este punto y sigue esta ruta: CD 3 -> CD 3 a Cliente 5 -> Cliente 5 a Cliente 6\n",
      "Vehículo 19 está en este punto y sigue esta ruta: CD 4 -> CD 4 a Cliente 74\n",
      "Vehículo 20 está en este punto y sigue esta ruta: CD 8 -> CD 8 a Cliente 40 -> Cliente 40 a Cliente 78\n",
      "Vehículo 21 está en este punto y sigue esta ruta: CD 12\n",
      "Vehículo 22 está en este punto y sigue esta ruta: CD 1 -> CD 1 a Cliente 58\n",
      "Vehículo 23 está en este punto y sigue esta ruta: CD 2 -> CD 2 a Cliente 25\n",
      "Vehículo 24 está en este punto y sigue esta ruta: CD 8 -> CD 8 a Cliente 11 -> Cliente 11 a Cliente 69\n",
      "Vehículo 25 está en este punto y sigue esta ruta: CD 5 -> CD 5 a Cliente 18 -> Cliente 18 a Cliente 45\n",
      "Vehículo 26 está en este punto y sigue esta ruta: CD 8 -> CD 8 a Cliente 62\n",
      "Vehículo 27 está en este punto y sigue esta ruta: CD 5 -> CD 5 a Cliente 48\n",
      "Vehículo 28 está en este punto y sigue esta ruta: CD 8 -> CD 8 a Cliente 44\n",
      "Vehículo 29 está en este punto y sigue esta ruta: CD 11 -> CD 11 a Cliente 10 -> Cliente 10 a Cliente 38\n"
     ]
    }
   ],
   "source": [
    "for l in model.V:\n",
    "    # Crear un registro de la ruta\n",
    "    ruta = []\n",
    "    \n",
    "    # Buscamos el centro de distribución desde el que parte el vehículo\n",
    "    for i in model.C:\n",
    "        if model.y[i, l].value == 1:\n",
    "            ruta.append(f\"CD {i}\")\n",
    "            break  # Solo un centro de distribución\n",
    "\n",
    "    # Luego, buscamos a qué clientes va el vehículo\n",
    "    cliente_anterior = None\n",
    "    for i in model.C:\n",
    "        for j in model.K:\n",
    "            if model.x[i, j, l].value == 1: \n",
    "                if cliente_anterior:\n",
    "                    ruta.append(f\"Cliente {cliente_anterior} a Cliente {j}\")\n",
    "                else:\n",
    "                    ruta.append(f\"CD {i} a Cliente {j}\")\n",
    "                cliente_anterior = j \n",
    "               \n",
    "    print(f\"Vehículo {l} está en este punto y sigue esta ruta: {' -> '.join(ruta)}\")\n"
   ]
  },
  {
   "cell_type": "code",
   "execution_count": 189,
   "id": "d39fe879",
   "metadata": {},
   "outputs": [
    {
     "name": "stdout",
     "output_type": "stream",
     "text": [
      "Vehículo 22 parte desde CD 1\n",
      "Vehículo 23 parte desde CD 2\n",
      "Vehículo 4 parte desde CD 3\n",
      "Vehículo 15 parte desde CD 3\n",
      "Vehículo 18 parte desde CD 3\n",
      "Vehículo 0 parte desde CD 4\n",
      "Vehículo 7 parte desde CD 4\n",
      "Vehículo 19 parte desde CD 4\n",
      "Vehículo 1 parte desde CD 5\n",
      "Vehículo 25 parte desde CD 5\n",
      "Vehículo 27 parte desde CD 5\n",
      "Vehículo 2 parte desde CD 6\n",
      "Vehículo 5 parte desde CD 6\n",
      "Vehículo 17 parte desde CD 6\n",
      "Vehículo 3 parte desde CD 7\n",
      "Vehículo 6 parte desde CD 7\n",
      "Vehículo 20 parte desde CD 8\n",
      "Vehículo 24 parte desde CD 8\n",
      "Vehículo 26 parte desde CD 8\n",
      "Vehículo 28 parte desde CD 8\n",
      "Vehículo 14 parte desde CD 9\n",
      "Vehículo 8 parte desde CD 10\n",
      "Vehículo 16 parte desde CD 10\n",
      "Vehículo 12 parte desde CD 11\n",
      "Vehículo 29 parte desde CD 11\n",
      "Vehículo 9 parte desde CD 12\n",
      "Vehículo 10 parte desde CD 12\n",
      "Vehículo 11 parte desde CD 12\n",
      "Vehículo 13 parte desde CD 12\n",
      "Vehículo 21 parte desde CD 12\n"
     ]
    }
   ],
   "source": [
    "for i in model.C:\n",
    "    for l in model.V:\n",
    "        if model.y[i, l].value == 1:\n",
    "            print(f\"Vehículo {l} parte desde CD {i}\")\n"
   ]
  },
  {
   "cell_type": "code",
   "execution_count": 190,
   "id": "b62cd122",
   "metadata": {},
   "outputs": [],
   "source": [
    "mapa = folium.Map(location=[4.60971, -74.08175], zoom_start=12)\n",
    "\n",
    "for _, depot in depots_df.iterrows():\n",
    "    folium.Marker(\n",
    "        location=[depot['Latitude'], depot['Longitude']], \n",
    "        popup=f\"CD {depot['DepotID']}\", \n",
    "        icon=folium.Icon(color='blue')\n",
    "    ).add_to(mapa)\n",
    "\n",
    "for _, client in clients_df.iterrows():\n",
    "    folium.Marker(\n",
    "        location=[client['Latitude'], client['Longitude']], \n",
    "        popup=f\"Cliente {client['ClientID']}\",\n",
    "        icon=folium.Icon(color='green')\n",
    "    ).add_to(mapa)\n",
    "\n",
    "for l in model.V:\n",
    "    ruta_coordenadas = []\n",
    "\n",
    "    for i in model.C:\n",
    "        if model.y[i, l].value == 1:\n",
    "            cd_lat = depots_df[depots_df['DepotID'] == i]['Latitude'].values[0]\n",
    "            cd_lon = depots_df[depots_df['DepotID'] == i]['Longitude'].values[0]\n",
    "            ruta_coordenadas.append([cd_lat, cd_lon])\n",
    "            break\n",
    "\n",
    "    cliente_anterior = None\n",
    "    for i in model.C:\n",
    "        for j in model.K:\n",
    "            if model.x[i, j, l].value == 1:\n",
    "                client_lat = clients_df[clients_df['ClientID'] == j]['Latitude'].values[0]\n",
    "                client_lon = clients_df[clients_df['ClientID'] == j]['Longitude'].values[0]\n",
    "                ruta_coordenadas.append([client_lat, client_lon])\n",
    "                \n",
    "                cliente_anterior = j\n",
    "\n",
    "    folium.PolyLine(ruta_coordenadas, color='red', weight=2.5, opacity=1).add_to(mapa)\n",
    "\n",
    "mapa\n",
    "mapa.save(\"./caso3.html\")"
   ]
  },
  {
   "cell_type": "code",
   "execution_count": 191,
   "id": "c739a399",
   "metadata": {},
   "outputs": [],
   "source": [
    "# Definimos la velocidad promedio en Bogotá para un furgón\n",
    "velocidad_promedio = 40  # km/h\n",
    "\n",
    "# Calcular el tiempo total basado en la distancia recorrida\n",
    "def calcular_tiempo_total(distancia_km):\n",
    "    tiempo_horas = distancia_km / velocidad_promedio \n",
    "    return tiempo_horas * 60 \n",
    "\n",
    "\n",
    "def guardar_verificacion(model, archivo='verificacion_caso.csv'):\n",
    "    with open(archivo, mode='w', newline='') as file:\n",
    "        writer = csv.writer(file)\n",
    "        writer.writerow(['VehicleId', 'DepotId', 'InitialLoad', 'RouteSequence', 'ClientsServed', \n",
    "                         'DemandsSatisfied', 'TotalDistance', 'TotalTime', 'FuelCost'])\n",
    "\n",
    "        # Recorremos los vehículos\n",
    "        for l in model.V:\n",
    "            vehicle_id = f\"{l+1:03d}\"\n",
    "            \n",
    "            depot_id = None\n",
    "            for i in model.C:\n",
    "                if model.y[i, l].value == 1:\n",
    "                    depot_id = i\n",
    "                    break\n",
    "            \n",
    "            initial_load = model.I[depot_id].value if depot_id is not None else 0\n",
    "            \n",
    "            route_sequence = []\n",
    "            cliente_anterior = None\n",
    "            total_distance = 0  # Distancia total\n",
    "            for i in model.C:\n",
    "                for j in model.K:\n",
    "                    if model.x[i, j, l].value == 1:\n",
    "                        if cliente_anterior:\n",
    "                            route_sequence.append(f\"C{cliente_anterior} - C{j}\")\n",
    "                        else:\n",
    "                            route_sequence.append(f\"CD {i} - C{j}\")\n",
    "                        cliente_anterior = j\n",
    "                        total_distance += model.DIST[i, j]\n",
    "            \n",
    "            # Clientes atendidos\n",
    "            clients_served = len(route_sequence)\n",
    "            \n",
    "            demands_satisfied = []\n",
    "            for j in model.K:\n",
    "                if cliente_anterior == j:\n",
    "                    demands_satisfied.append(str(model.DEM[j])) \n",
    "\n",
    "            total_time = calcular_tiempo_total(total_distance)\n",
    "            \n",
    "            fuel_cost = total_distance * (Pf + Ft + Cm)\n",
    "            \n",
    "            writer.writerow([\n",
    "                vehicle_id,\n",
    "                depot_id,\n",
    "                initial_load,\n",
    "                '-'.join(route_sequence),\n",
    "                clients_served,\n",
    "                '-'.join(demands_satisfied),\n",
    "                total_distance,\n",
    "                total_time,\n",
    "                fuel_cost\n",
    "            ])\n",
    "\n",
    "guardar_verificacion(model, archivo='verificacion_caso1.csv')\n"
   ]
  },
  {
   "cell_type": "code",
   "execution_count": 1,
   "id": "19ae825b",
   "metadata": {},
   "outputs": [
    {
     "name": "stdout",
     "output_type": "stream",
     "text": [
      "Distancia promedio: 11.56 km\n",
      "Tiempo promedio: 17.34 min\n",
      "Carga promedio: 11.92 unidades\n"
     ]
    }
   ],
   "source": [
    "import pandas as pd\n",
    "\n",
    "df = pd.read_csv(\"Archivos_Verificacion/verificacion_caso3.csv\")\n",
    "df_usados = df[df[\"ClientsServed\"] > 0]\n",
    "\n",
    "dist_prom = df_usados[\"TotalDistance\"].mean()\n",
    "tiempo_prom = df_usados[\"TotalTime\"].mean()\n",
    "carga_prom = df_usados[\"DemandsSatisfied\"].astype(str).str.replace(\"-\", \"\").str.replace(\" \", \"\").str.split(\",\").explode().astype(float).groupby(level=0).sum().mean()\n",
    "\n",
    "print(f\"Distancia promedio: {dist_prom:.2f} km\")\n",
    "print(f\"Tiempo promedio: {tiempo_prom:.2f} min\")\n",
    "print(f\"Carga promedio: {carga_prom:.2f} unidades\")"
   ]
  }
 ],
 "metadata": {
  "kernelspec": {
   "display_name": "pyomo_env",
   "language": "python",
   "name": "python3"
  },
  "language_info": {
   "codemirror_mode": {
    "name": "ipython",
    "version": 3
   },
   "file_extension": ".py",
   "mimetype": "text/x-python",
   "name": "python",
   "nbconvert_exporter": "python",
   "pygments_lexer": "ipython3",
   "version": "3.9.21"
  }
 },
 "nbformat": 4,
 "nbformat_minor": 5
}
