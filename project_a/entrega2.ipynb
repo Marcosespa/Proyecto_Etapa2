{
 "cells": [
  {
   "cell_type": "code",
   "execution_count": 42,
   "id": "bcf3d233",
   "metadata": {},
   "outputs": [],
   "source": [
    "import pandas as pd\n",
    "import numpy as np"
   ]
  },
  {
   "cell_type": "code",
   "execution_count": 43,
   "id": "69c51f32",
   "metadata": {},
   "outputs": [],
   "source": [
    "clients_df = pd.read_csv(\"Proyecto_A_Caso2/clients.csv\")\n",
    "depots_df = pd.read_csv(\"Proyecto_A_Caso2/depots.csv\")\n",
    "vehicles_df = pd.read_csv(\"Proyecto_A_Caso2/vehicles.csv\")\n",
    "\n"
   ]
  },
  {
   "cell_type": "code",
   "execution_count": 44,
   "id": "67996b48",
   "metadata": {},
   "outputs": [
    {
     "name": "stdout",
     "output_type": "stream",
     "text": [
      "   ClientID  LocationID  Product  Longitude  Latitude\n",
      "0         1          13       12 -74.196992  4.632553\n",
      "1         2          14       15 -74.155037  4.601328\n",
      "2         3          15       15 -74.101787  4.732421\n",
      "3         4          16        6 -74.194862  4.638612\n",
      "4         5          17        5 -74.110272  4.727692\n",
      "   DepotID  LocationID  Longitude  Latitude  Capacity\n",
      "0        1           1 -74.081242  4.750212         8\n",
      "1        2           2 -74.109934  4.536383        10\n",
      "2        3           3 -74.038548  4.792926         0\n",
      "3        4           4 -74.067069  4.721678         4\n",
      "4        5           5 -74.138263  4.607707        28\n",
      "  VehicleType    Capacity        Range\n",
      "0     Gas Car  131.921140   145.852071\n",
      "1          EV  108.435620  1304.605971\n",
      "2          EV   91.504255   953.172609\n",
      "3       drone   32.896064    17.302304\n",
      "4       drone   22.652628    16.627680\n"
     ]
    }
   ],
   "source": [
    "print(clients_df.head())\n",
    "print(depots_df.head())\n",
    "print(vehicles_df.head())\n"
   ]
  },
  {
   "cell_type": "code",
   "execution_count": 45,
   "id": "91d6ed94",
   "metadata": {},
   "outputs": [],
   "source": [
    "C=list(depots_df[\"DepotID\"])\n",
    "CAP=dict(zip(depots_df[\"DepotID\"],depots_df[\"Capacity\"]))\n"
   ]
  },
  {
   "cell_type": "code",
   "execution_count": 46,
   "id": "ed3801ab",
   "metadata": {},
   "outputs": [
    {
     "name": "stdout",
     "output_type": "stream",
     "text": [
      "Conjunto C: [1, 2, 3, 4, 5, 6, 7, 8, 9, 10, 11, 12]\n",
      "Capacidades CAP_i: {1: 8, 2: 10, 3: 0, 4: 4, 5: 28, 6: 3, 7: 0, 8: 10, 9: 43, 10: 1, 11: 16, 12: 18}\n"
     ]
    }
   ],
   "source": [
    "print(\"Conjunto C:\", C)\n",
    "print(\"Capacidades CAP_i:\", CAP)\n"
   ]
  },
  {
   "cell_type": "code",
   "execution_count": 47,
   "id": "c05d9b82",
   "metadata": {},
   "outputs": [],
   "source": [
    "K=list(clients_df[\"ClientID\"])\n",
    "DEM=dict(zip(clients_df[\"ClientID\"],clients_df[\"Product\"]))  # Esta es la demanda que solicita ese cliente"
   ]
  },
  {
   "cell_type": "code",
   "execution_count": 48,
   "id": "30032289",
   "metadata": {},
   "outputs": [
    {
     "name": "stdout",
     "output_type": "stream",
     "text": [
      "Conjunto K: clientes [1, 2, 3, 4, 5, 6, 7, 8, 9]\n",
      "Capacidades Demanda: {1: 12, 2: 15, 3: 15, 4: 6, 5: 5, 6: 11, 7: 12, 8: 10, 9: 15}\n"
     ]
    }
   ],
   "source": [
    "print(\"Conjunto K: clientes\", K)\n",
    "print(\"Capacidades Demanda:\", DEM)"
   ]
  },
  {
   "cell_type": "markdown",
   "id": "44a68f27",
   "metadata": {},
   "source": [
    "Conjunto para la distancia"
   ]
  },
  {
   "cell_type": "code",
   "execution_count": 49,
   "id": "d1287356",
   "metadata": {},
   "outputs": [],
   "source": [
    "def dist_haversiana(lon1,lat1,lon2,lat2):\n",
    "  R=6371.0 #radio tierra\n",
    "  lon1,lat1,lon2,lat2=map(np.radians,[lon1,lat1,lon2,lat2])\n",
    "  dlon=lon2-lon1\n",
    "  dlat=lat2-lat1\n",
    "  a = np.sin(dlat / 2.0)**2 + np.cos(lat1) * np.cos(lat2) * np.sin(dlon / 2.0)**2\n",
    "  c = 2 * np.arcsin(np.sqrt(a))\n",
    "  return R * c\n",
    "\n"
   ]
  },
  {
   "cell_type": "code",
   "execution_count": 50,
   "id": "56865115",
   "metadata": {},
   "outputs": [],
   "source": [
    "DIST={}\n",
    "for i,depot in depots_df.iterrows():\n",
    "  for j,client in clients_df.iterrows():\n",
    "    di=depot[\"DepotID\"]\n",
    "    ci=client[\"ClientID\"]\n",
    "    distance=dist_haversiana(depot[\"Longitude\"],depot[\"Latitude\"],\n",
    "                             client[\"Longitude\"],client[\"Latitude\"]\n",
    "                             )\n",
    "    DIST[(di,ci)]=round(distance,2)\n"
   ]
  },
  {
   "cell_type": "code",
   "execution_count": 51,
   "id": "15e21ac2",
   "metadata": {},
   "outputs": [
    {
     "name": "stdout",
     "output_type": "stream",
     "text": [
      "La distancia entre el centro de distribucion 1.0 y el cliente 1.0 es de 18.32\n",
      "La distancia entre el centro de distribucion 1.0 y el cliente 2.0 es de 18.46\n",
      "La distancia entre el centro de distribucion 1.0 y el cliente 3.0 es de 3.02\n",
      "La distancia entre el centro de distribucion 1.0 y el cliente 4.0 es de 17.68\n",
      "La distancia entre el centro de distribucion 1.0 y el cliente 5.0 es de 4.08\n"
     ]
    }
   ],
   "source": [
    "for key, val in list(DIST.items())[:5]:\n",
    "  print(\"La distancia entre el centro de distribucion\", key[0], \"y el cliente\", key[1], \"es de\", val)"
   ]
  },
  {
   "cell_type": "markdown",
   "id": "7ecfd7f7",
   "metadata": {},
   "source": [
    "Procesamiento de vehiculos"
   ]
  }
 ],
 "metadata": {
  "kernelspec": {
   "display_name": "base",
   "language": "python",
   "name": "python3"
  },
  "language_info": {
   "codemirror_mode": {
    "name": "ipython",
    "version": 3
   },
   "file_extension": ".py",
   "mimetype": "text/x-python",
   "name": "python",
   "nbconvert_exporter": "python",
   "pygments_lexer": "ipython3",
   "version": "3.12.7"
  }
 },
 "nbformat": 4,
 "nbformat_minor": 5
}
